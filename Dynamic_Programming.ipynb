{
 "cells": [
  {
   "cell_type": "code",
   "execution_count": 312,
   "metadata": {},
   "outputs": [],
   "source": [
    "import time\n",
    "import numpy as np"
   ]
  },
  {
   "cell_type": "code",
   "execution_count": 313,
   "metadata": {},
   "outputs": [],
   "source": [
    "\n",
    "def fib(n, memo = {}):\n",
    "    if n in memo: return memo[n]\n",
    "    if n<=2: return 1\n",
    "    memo[n] = fib(n-1) + fib(n-2)  #memoized\n",
    "    return memo[n]  \n"
   ]
  },
  {
   "cell_type": "code",
   "execution_count": 314,
   "metadata": {},
   "outputs": [
    {
     "name": "stdout",
     "output_type": "stream",
     "text": [
      "Algo Time:  142.3358917236328 us\n"
     ]
    }
   ],
   "source": [
    "\n",
    "start = time.time()\n",
    "f = fib(20) #magic \n",
    "end  = time.time()\n",
    "print('Algo Time: ', (end-start)*1000000, 'us')\n"
   ]
  },
  {
   "cell_type": "code",
   "execution_count": 315,
   "metadata": {},
   "outputs": [],
   "source": [
    "\n",
    "def gridTraveler(m,n, memo = {}):\n",
    "    key = (m,n)\n",
    "    if key in memo.keys(): return memo[key]\n",
    "    if(m==1 and n==1): return 1\n",
    "    if(m==0 or n==0): return 0\n",
    "    memo[key] = gridTraveler(m-1, n, memo) + gridTraveler(m,n-1, memo)\n",
    "    return memo[key]\n"
   ]
  },
  {
   "cell_type": "code",
   "execution_count": 316,
   "metadata": {},
   "outputs": [
    {
     "name": "stdout",
     "output_type": "stream",
     "text": [
      "Algo Time:  416.2788391113281 us\n"
     ]
    }
   ],
   "source": [
    "\n",
    "start = time.time()\n",
    "g = gridTraveler(18,18) #magic \n",
    "end  = time.time()\n",
    "print('Algo Time: ', (end-start)*1000000, 'us')\n"
   ]
  },
  {
   "cell_type": "code",
   "execution_count": 317,
   "metadata": {},
   "outputs": [],
   "source": [
    "\n",
    "def canSum(targetSum, numbers, memo = {}):\n",
    "    if targetSum in memo.keys(): return memo[targetSum]\n",
    "    if targetSum == 0: return True\n",
    "    if targetSum<0: return False\n",
    "    for num in numbers:\n",
    "        remainder = targetSum - num\n",
    "        if canSum(remainder, numbers)==True: \n",
    "            memo[targetSum] = True\n",
    "            return True\n",
    "    memo[targetSum] = False    \n",
    "    return False\n"
   ]
  },
  {
   "cell_type": "code",
   "execution_count": 318,
   "metadata": {},
   "outputs": [
    {
     "name": "stdout",
     "output_type": "stream",
     "text": [
      "Algo Time:  141.143798828125 us\n"
     ]
    }
   ],
   "source": [
    "\n",
    "start = time.time()\n",
    "c = canSum(300,[7,14]) #magic \n",
    "end  = time.time()\n",
    "print('Algo Time: ', (end-start)*1000000, 'us')\n"
   ]
  },
  {
   "cell_type": "code",
   "execution_count": 319,
   "metadata": {},
   "outputs": [],
   "source": [
    "\n",
    "def howSum(targetSum, numbers, memo = {}):\n",
    "    if targetSum in memo.keys(): return memo[targetSum]\n",
    "    if targetSum == 0: return []\n",
    "    if targetSum<0: return None\n",
    "    for num in numbers:\n",
    "        remainder = targetSum - num\n",
    "        remainderResult = howSum(remainder, numbers, memo)\n",
    "        if remainderResult is not None: \n",
    "            memo[targetSum] = remainderResult + [num]\n",
    "            return memo[targetSum]\n",
    "\n",
    "    memo[targetSum] = None\n",
    "    return None\n"
   ]
  },
  {
   "cell_type": "code",
   "execution_count": 320,
   "metadata": {},
   "outputs": [
    {
     "name": "stdout",
     "output_type": "stream",
     "text": [
      "Algo Time:  102.04315185546875 us\n"
     ]
    }
   ],
   "source": [
    "\n",
    "start = time.time()\n",
    "h = howSum(300,[7,14], memo) #magic \n",
    "end  = time.time()\n",
    "print('Algo Time: ', (end-start)*1000000, 'us')\n"
   ]
  },
  {
   "cell_type": "code",
   "execution_count": 321,
   "metadata": {},
   "outputs": [],
   "source": [
    "\n",
    "def bestSum(targetSum, numbers, memo = {}):\n",
    "    if targetSum in memo.keys(): return memo[targetSum]\n",
    "    if targetSum == 0: return []\n",
    "    if targetSum<0: return None\n",
    "    \n",
    "    shortestCombination = None\n",
    "    \n",
    "    for num in numbers:\n",
    "        remainder = targetSum - num\n",
    "        remainderCombination = bestSum(remainder, numbers, memo)\n",
    "        if remainderCombination is not None: \n",
    "            combination = remainderCombination + [num]\n",
    "            if(shortestCombination is None) or (len(combination)<len(shortestCombination)):\n",
    "                shortestCombination = combination\n",
    "    memo[targetSum] = shortestCombination\n",
    "    return shortestCombination\n"
   ]
  },
  {
   "cell_type": "code",
   "execution_count": 322,
   "metadata": {},
   "outputs": [
    {
     "name": "stdout",
     "output_type": "stream",
     "text": [
      "Algo Time:  641.3459777832031 us\n"
     ]
    }
   ],
   "source": [
    "\n",
    "start = time.time()\n",
    "b = bestSum(100,[1,2,5,25]) #magic \n",
    "end  = time.time()\n",
    "print('Algo Time: ', (end-start)*1000000, 'us')\n"
   ]
  },
  {
   "cell_type": "code",
   "execution_count": 323,
   "metadata": {},
   "outputs": [],
   "source": [
    "\n",
    "def canConstruct(target, wordBank, memo = {}):\n",
    "    if target in memo.keys(): return memo[target]\n",
    "    if target == '': return True\n",
    "    \n",
    "    for word in wordBank:\n",
    "        if target.startswith(word):\n",
    "            suffix = target[len(word):]\n",
    "            if canConstruct(suffix, wordBank, memo) == True: \n",
    "                memo[target] = True\n",
    "                return True\n",
    "    memo[target] = False       \n",
    "    return False        \n"
   ]
  },
  {
   "cell_type": "code",
   "execution_count": 324,
   "metadata": {},
   "outputs": [
    {
     "name": "stdout",
     "output_type": "stream",
     "text": [
      "Algo Time:  111.81831359863281 us\n"
     ]
    }
   ],
   "source": [
    "\n",
    "start = time.time()\n",
    "cc = canConstruct('abcdef',['ab', 'abc', 'cd', 'def', 'abcd']) #magic \n",
    "end  = time.time()\n",
    "print('Algo Time: ', (end-start)*1000000, 'us')\n"
   ]
  },
  {
   "cell_type": "code",
   "execution_count": 325,
   "metadata": {},
   "outputs": [],
   "source": [
    "\n",
    "def countConstruct(target, wordBank):\n",
    "#     if target in memo.keys(): return memo[target]\n",
    "    if target == '': return 1\n",
    "    totalCount = 0\n",
    "    for word in wordBank:\n",
    "        if target.startswith(word):\n",
    "            suffix = target[len(word):]\n",
    "            val = canConstruct(suffix, wordBank) \n",
    "            totalCount += val\n",
    "            \n",
    "    return totalCount        \n"
   ]
  },
  {
   "cell_type": "code",
   "execution_count": 326,
   "metadata": {},
   "outputs": [
    {
     "name": "stdout",
     "output_type": "stream",
     "text": [
      "Algo Time:  107.76519775390625 us\n"
     ]
    }
   ],
   "source": [
    "\n",
    "start = time.time()\n",
    "cc = countConstruct('abcdef',['ab', 'abc', 'cd', 'def', 'abcd']) #magic \n",
    "end  = time.time()\n",
    "print('Algo Time: ', (end-start)*1000000, 'us')\n"
   ]
  },
  {
   "cell_type": "code",
   "execution_count": 327,
   "metadata": {},
   "outputs": [],
   "source": [
    "\n",
    "def allConstruct(target, wordBank, memo={}):\n",
    "    if target in memo.keys(): return memo[target]\n",
    "    if target == '': return [[]]\n",
    "    result = []\n",
    "    for word in wordBank:\n",
    "        if target.startswith(word):\n",
    "            suffix = target[len(word):]\n",
    "            suffixWays = allConstruct(suffix, wordBank, memo)\n",
    "            targetWays = [item + [word] for item in suffixWays]\n",
    "            result = result + targetWays       \n",
    "    memo[target] = result        \n",
    "    return result      \n"
   ]
  },
  {
   "cell_type": "code",
   "execution_count": 328,
   "metadata": {},
   "outputs": [
    {
     "name": "stdout",
     "output_type": "stream",
     "text": [
      "Algo Time:  130.4149627685547 us\n"
     ]
    }
   ],
   "source": [
    "\n",
    "start = time.time()\n",
    "cc = allConstruct('abcdef',['ab', 'abc', 'cd', 'def', 'abcd','ef','c']) #magic \n",
    "end  = time.time()\n",
    "print('Algo Time: ', (end-start)*1000000, 'us')\n"
   ]
  },
  {
   "cell_type": "code",
   "execution_count": 329,
   "metadata": {},
   "outputs": [],
   "source": [
    "#tabulation"
   ]
  },
  {
   "cell_type": "code",
   "execution_count": 330,
   "metadata": {},
   "outputs": [],
   "source": [
    "def fib(n):\n",
    "    table = np.zeros((n+2,1))\n",
    "    table[1] = 1\n",
    "    for i in range(n):\n",
    "        table[i+1] += table[i]\n",
    "        table[i+2] += table[i]\n",
    "\n",
    "    return table[n]"
   ]
  },
  {
   "cell_type": "code",
   "execution_count": 331,
   "metadata": {},
   "outputs": [
    {
     "name": "stdout",
     "output_type": "stream",
     "text": [
      "[21.]\n"
     ]
    }
   ],
   "source": [
    "x = fib(8)\n",
    "print(x)"
   ]
  },
  {
   "cell_type": "code",
   "execution_count": 332,
   "metadata": {},
   "outputs": [],
   "source": [
    "def gridTraveller(m,n):\n",
    "    table =  np.zeros((m+1,n+1))\n",
    "    table[1,1] = 1\n",
    "    for i in range(m+1):\n",
    "        for j in range(n+1):\n",
    "            current = table[i,j]\n",
    "            if (j+1)<=n: table[i,j+1] += current\n",
    "            if (i+1)<=m: table[i+1,j] += current\n",
    "                \n",
    "    return table[m,n]            "
   ]
  },
  {
   "cell_type": "code",
   "execution_count": 333,
   "metadata": {},
   "outputs": [
    {
     "name": "stdout",
     "output_type": "stream",
     "text": [
      "6.0\n"
     ]
    }
   ],
   "source": [
    "x = gridTraveller(3,3)\n",
    "print(x)"
   ]
  },
  {
   "cell_type": "code",
   "execution_count": 334,
   "metadata": {},
   "outputs": [],
   "source": [
    "def canSum(targetSum, numbers):\n",
    "    table = np.zeros((targetSum+1,1))\n",
    "    table[0] = True\n",
    "    for i in range(targetSum+1):\n",
    "        if table[i] == True:\n",
    "            for num in numbers:\n",
    "                if(i+num)<=targetSum: table[i+num] = True\n",
    "                \n",
    "    return table[targetSum]\n",
    "        \n",
    "            "
   ]
  },
  {
   "cell_type": "code",
   "execution_count": 335,
   "metadata": {},
   "outputs": [
    {
     "name": "stdout",
     "output_type": "stream",
     "text": [
      "[1.]\n"
     ]
    }
   ],
   "source": [
    "x = canSum(7,[5,3,4,7])\n",
    "print(x)"
   ]
  },
  {
   "cell_type": "code",
   "execution_count": 336,
   "metadata": {},
   "outputs": [],
   "source": [
    "def howSum(targetSum, numbers):\n",
    "    table = dict(zip(range(targetSum+1), [None]*(targetSum+1)))\n",
    "    table[0] = []\n",
    "    for i in range(targetSum+1):\n",
    "        if table[i] is not None:\n",
    "            for num in numbers:\n",
    "                if(i+num)<=(targetSum): table[i+num] = table[i] + [num]\n",
    "        \n",
    "    return table[targetSum]    \n",
    "        "
   ]
  },
  {
   "cell_type": "code",
   "execution_count": 337,
   "metadata": {},
   "outputs": [
    {
     "name": "stdout",
     "output_type": "stream",
     "text": [
      "[3, 2, 2]\n"
     ]
    }
   ],
   "source": [
    "x = howSum(7,[2,3])\n",
    "print(x)"
   ]
  },
  {
   "cell_type": "code",
   "execution_count": 338,
   "metadata": {},
   "outputs": [],
   "source": [
    "def bestSum(targetSum, numbers):\n",
    "    \n",
    "    table = dict(zip(range(targetSum+1), [None]*(targetSum+1)))\n",
    "    table[0] = []\n",
    "\n",
    "    for i in range(targetSum+1):\n",
    "        if table[i] is not None:\n",
    "            for num in numbers:\n",
    "                combination = table[i] + [num]\n",
    "                if((i+num)<=(targetSum)) and (not table[i+num] or len(combination) < len(table[i+num])):\n",
    "                    table[i+num] = combination\n",
    "    \n",
    "    \n",
    "    return table[targetSum]\n",
    "    "
   ]
  },
  {
   "cell_type": "code",
   "execution_count": 339,
   "metadata": {},
   "outputs": [
    {
     "name": "stdout",
     "output_type": "stream",
     "text": [
      "[25, 25, 25, 25]\n"
     ]
    }
   ],
   "source": [
    "x = bestSum(100, [25,1,5,2])\n",
    "print(x)"
   ]
  },
  {
   "cell_type": "code",
   "execution_count": null,
   "metadata": {},
   "outputs": [],
   "source": []
  }
 ],
 "metadata": {
  "kernelspec": {
   "display_name": "Python 3",
   "language": "python",
   "name": "python3"
  },
  "language_info": {
   "codemirror_mode": {
    "name": "ipython",
    "version": 3
   },
   "file_extension": ".py",
   "mimetype": "text/x-python",
   "name": "python",
   "nbconvert_exporter": "python",
   "pygments_lexer": "ipython3",
   "version": "3.7.6"
  }
 },
 "nbformat": 4,
 "nbformat_minor": 4
}
